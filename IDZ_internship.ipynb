{
  "nbformat": 4,
  "nbformat_minor": 0,
  "metadata": {
    "kernelspec": {
      "display_name": "Python 3",
      "language": "python",
      "name": "python3"
    },
    "language_info": {
      "codemirror_mode": {
        "name": "ipython",
        "version": 3
      },
      "file_extension": ".py",
      "mimetype": "text/x-python",
      "name": "python",
      "nbconvert_exporter": "python",
      "pygments_lexer": "ipython3",
      "version": "3.8.5"
    },
    "colab": {
      "name": "IDZ_internship.ipynb",
      "provenance": [],
      "collapsed_sections": [],
      "include_colab_link": true
    }
  },
  "cells": [
    {
      "cell_type": "markdown",
      "metadata": {
        "id": "view-in-github",
        "colab_type": "text"
      },
      "source": [
        "<a href=\"https://colab.research.google.com/github/Delta9529/idz_internship/blob/main/IDZ_internship.ipynb\" target=\"_parent\"><img src=\"https://colab.research.google.com/assets/colab-badge.svg\" alt=\"Open In Colab\"/></a>"
      ]
    },
    {
      "cell_type": "markdown",
      "metadata": {
        "id": "a8gw5q6dl2A4"
      },
      "source": [
        "Importing data and lib"
      ]
    },
    {
      "cell_type": "code",
      "metadata": {
        "id": "0g78g3QQCdVk"
      },
      "source": [
        "import pandas as pd\n",
        "from collections import Counter\n",
        "import matplotlib.pyplot as plt"
      ],
      "execution_count": 114,
      "outputs": []
    },
    {
      "cell_type": "code",
      "metadata": {
        "id": "Q8zCdpjoC1-e",
        "colab": {
          "base_uri": "https://localhost:8080/"
        },
        "outputId": "33e8f9ca-c6e4-4b45-df33-c3ebca90435f"
      },
      "source": [
        "from google.colab import drive\n",
        "drive.mount('/content/drive')"
      ],
      "execution_count": 115,
      "outputs": [
        {
          "output_type": "stream",
          "text": [
            "Drive already mounted at /content/drive; to attempt to forcibly remount, call drive.mount(\"/content/drive\", force_remount=True).\n"
          ],
          "name": "stdout"
        }
      ]
    },
    {
      "cell_type": "code",
      "metadata": {
        "id": "1D43fe9ICdVm"
      },
      "source": [
        "data = pd.read_csv(r\"/content/drive/MyDrive/Colab Notebooks/IDZ/IDZ Digital data analyst.csv\")"
      ],
      "execution_count": 116,
      "outputs": []
    },
    {
      "cell_type": "code",
      "metadata": {
        "id": "gGiU02bgCdVm"
      },
      "source": [
        "data.columns = data.columns.str.strip()"
      ],
      "execution_count": 117,
      "outputs": []
    },
    {
      "cell_type": "code",
      "metadata": {
        "id": "DAVFQUcoCdVn",
        "colab": {
          "base_uri": "https://localhost:8080/"
        },
        "outputId": "111477ad-a3c7-4eec-fadd-0b76304e99ef"
      },
      "source": [
        "data.columns"
      ],
      "execution_count": 118,
      "outputs": [
        {
          "output_type": "execute_result",
          "data": {
            "text/plain": [
              "Index(['First Name', 'Last  Name', 'Gender', 'Age', 'Occupation', 'Salary',\n",
              "       'Marital Status', 'No. of Children'],\n",
              "      dtype='object')"
            ]
          },
          "metadata": {
            "tags": []
          },
          "execution_count": 118
        }
      ]
    },
    {
      "cell_type": "code",
      "metadata": {
        "id": "_omILXzRCdVn"
      },
      "source": [
        "data['First Name'] = data['First Name'].str.strip()\n",
        "data['Last  Name'] = data['Last  Name'].str.strip()"
      ],
      "execution_count": 119,
      "outputs": []
    },
    {
      "cell_type": "markdown",
      "metadata": {
        "id": "_okYiMrxCdVo"
      },
      "source": [
        "# Data Description"
      ]
    },
    {
      "cell_type": "code",
      "metadata": {
        "id": "1AFC1dwiCdVo",
        "colab": {
          "base_uri": "https://localhost:8080/"
        },
        "outputId": "7fa5c21c-e145-4821-9658-d0c0565c3d52"
      },
      "source": [
        "data.shape #1000 rows "
      ],
      "execution_count": 120,
      "outputs": [
        {
          "output_type": "execute_result",
          "data": {
            "text/plain": [
              "(1000, 8)"
            ]
          },
          "metadata": {
            "tags": []
          },
          "execution_count": 120
        }
      ]
    },
    {
      "cell_type": "code",
      "metadata": {
        "id": "Nqm_AhG-CdVo",
        "colab": {
          "base_uri": "https://localhost:8080/"
        },
        "outputId": "0027bf7a-838a-43a1-b2bd-70879f160b69"
      },
      "source": [
        "data.columns # 8 columns"
      ],
      "execution_count": 121,
      "outputs": [
        {
          "output_type": "execute_result",
          "data": {
            "text/plain": [
              "Index(['First Name', 'Last  Name', 'Gender', 'Age', 'Occupation', 'Salary',\n",
              "       'Marital Status', 'No. of Children'],\n",
              "      dtype='object')"
            ]
          },
          "metadata": {
            "tags": []
          },
          "execution_count": 121
        }
      ]
    },
    {
      "cell_type": "code",
      "metadata": {
        "colab": {
          "base_uri": "https://localhost:8080/"
        },
        "id": "dqBs6RO8MHxE",
        "outputId": "4db2e03b-d834-4235-aaaf-56b05ef85bf3"
      },
      "source": [
        "data.nunique()"
      ],
      "execution_count": 122,
      "outputs": [
        {
          "output_type": "execute_result",
          "data": {
            "text/plain": [
              "First Name         206\n",
              "Last  Name         105\n",
              "Gender               2\n",
              "Age                 43\n",
              "Occupation          53\n",
              "Salary             957\n",
              "Marital Status       2\n",
              "No. of Children      6\n",
              "dtype: int64"
            ]
          },
          "metadata": {
            "tags": []
          },
          "execution_count": 122
        }
      ]
    },
    {
      "cell_type": "code",
      "metadata": {
        "id": "ZXY_1-oFCdVp",
        "colab": {
          "base_uri": "https://localhost:8080/"
        },
        "outputId": "5ab46d49-6f9e-4df0-9ea5-254512bdde88"
      },
      "source": [
        "data.info() \n",
        "#Dtype object are qualitative columns \n",
        "#Dtype int are quantitative columns "
      ],
      "execution_count": 123,
      "outputs": [
        {
          "output_type": "stream",
          "text": [
            "<class 'pandas.core.frame.DataFrame'>\n",
            "RangeIndex: 1000 entries, 0 to 999\n",
            "Data columns (total 8 columns):\n",
            " #   Column           Non-Null Count  Dtype \n",
            "---  ------           --------------  ----- \n",
            " 0   First Name       1000 non-null   object\n",
            " 1   Last  Name       1000 non-null   object\n",
            " 2   Gender           1000 non-null   object\n",
            " 3   Age              1000 non-null   int64 \n",
            " 4   Occupation       1000 non-null   object\n",
            " 5   Salary           1000 non-null   int64 \n",
            " 6   Marital Status   1000 non-null   object\n",
            " 7   No. of Children  1000 non-null   int64 \n",
            "dtypes: int64(3), object(5)\n",
            "memory usage: 62.6+ KB\n"
          ],
          "name": "stdout"
        }
      ]
    },
    {
      "cell_type": "code",
      "metadata": {
        "id": "T8Bgj9e8CdVp",
        "colab": {
          "base_uri": "https://localhost:8080/"
        },
        "outputId": "346912c4-e9dd-4c5a-fdd1-cc948b8c153c"
      },
      "source": [
        "Counter(data.Gender),Counter(data['Marital Status']),Counter(data['Occupation']).most_common(5)"
      ],
      "execution_count": 124,
      "outputs": [
        {
          "output_type": "execute_result",
          "data": {
            "text/plain": [
              "(Counter({'Female': 486, 'Male': 514}),\n",
              " Counter({'Married': 487, 'Single': 513}),\n",
              " [('Insurer', 29),\n",
              "  ('Biochemist', 28),\n",
              "  ('Driver', 24),\n",
              "  ('Singer', 24),\n",
              "  ('Programmer', 24)])"
            ]
          },
          "metadata": {
            "tags": []
          },
          "execution_count": 124
        }
      ]
    },
    {
      "cell_type": "code",
      "metadata": {
        "id": "1nEHA__0CdVq",
        "colab": {
          "base_uri": "https://localhost:8080/"
        },
        "outputId": "2ddc4705-9694-45c7-9338-9ff10763baf8"
      },
      "source": [
        "data.Occupation.value_counts(normalize = True).head() #relative frequencies of occupations "
      ],
      "execution_count": 125,
      "outputs": [
        {
          "output_type": "execute_result",
          "data": {
            "text/plain": [
              "Insurer       0.029\n",
              "Biochemist    0.028\n",
              "Driver        0.024\n",
              "Programmer    0.024\n",
              "Agronomist    0.024\n",
              "Name: Occupation, dtype: float64"
            ]
          },
          "metadata": {
            "tags": []
          },
          "execution_count": 125
        }
      ]
    },
    {
      "cell_type": "code",
      "metadata": {
        "id": "nGysFow0CdVq",
        "colab": {
          "base_uri": "https://localhost:8080/",
          "height": 282
        },
        "outputId": "c3da501d-2933-4a77-ebf9-5d63cf0751c3"
      },
      "source": [
        "data.describe() #min max mean"
      ],
      "execution_count": 126,
      "outputs": [
        {
          "output_type": "execute_result",
          "data": {
            "text/html": [
              "<div>\n",
              "<style scoped>\n",
              "    .dataframe tbody tr th:only-of-type {\n",
              "        vertical-align: middle;\n",
              "    }\n",
              "\n",
              "    .dataframe tbody tr th {\n",
              "        vertical-align: top;\n",
              "    }\n",
              "\n",
              "    .dataframe thead th {\n",
              "        text-align: right;\n",
              "    }\n",
              "</style>\n",
              "<table border=\"1\" class=\"dataframe\">\n",
              "  <thead>\n",
              "    <tr style=\"text-align: right;\">\n",
              "      <th></th>\n",
              "      <th>Age</th>\n",
              "      <th>Salary</th>\n",
              "      <th>No. of Children</th>\n",
              "    </tr>\n",
              "  </thead>\n",
              "  <tbody>\n",
              "    <tr>\n",
              "      <th>count</th>\n",
              "      <td>1000.000000</td>\n",
              "      <td>1000.000000</td>\n",
              "      <td>1000.000000</td>\n",
              "    </tr>\n",
              "    <tr>\n",
              "      <th>mean</th>\n",
              "      <td>39.536000</td>\n",
              "      <td>5303.460000</td>\n",
              "      <td>2.447000</td>\n",
              "    </tr>\n",
              "    <tr>\n",
              "      <th>std</th>\n",
              "      <td>12.477275</td>\n",
              "      <td>2761.864336</td>\n",
              "      <td>1.703553</td>\n",
              "    </tr>\n",
              "    <tr>\n",
              "      <th>min</th>\n",
              "      <td>18.000000</td>\n",
              "      <td>520.000000</td>\n",
              "      <td>0.000000</td>\n",
              "    </tr>\n",
              "    <tr>\n",
              "      <th>25%</th>\n",
              "      <td>29.000000</td>\n",
              "      <td>2955.500000</td>\n",
              "      <td>1.000000</td>\n",
              "    </tr>\n",
              "    <tr>\n",
              "      <th>50%</th>\n",
              "      <td>40.000000</td>\n",
              "      <td>5228.000000</td>\n",
              "      <td>2.000000</td>\n",
              "    </tr>\n",
              "    <tr>\n",
              "      <th>75%</th>\n",
              "      <td>50.000000</td>\n",
              "      <td>7814.750000</td>\n",
              "      <td>4.000000</td>\n",
              "    </tr>\n",
              "    <tr>\n",
              "      <th>max</th>\n",
              "      <td>60.000000</td>\n",
              "      <td>10000.000000</td>\n",
              "      <td>5.000000</td>\n",
              "    </tr>\n",
              "  </tbody>\n",
              "</table>\n",
              "</div>"
            ],
            "text/plain": [
              "               Age        Salary  No. of Children\n",
              "count  1000.000000   1000.000000      1000.000000\n",
              "mean     39.536000   5303.460000         2.447000\n",
              "std      12.477275   2761.864336         1.703553\n",
              "min      18.000000    520.000000         0.000000\n",
              "25%      29.000000   2955.500000         1.000000\n",
              "50%      40.000000   5228.000000         2.000000\n",
              "75%      50.000000   7814.750000         4.000000\n",
              "max      60.000000  10000.000000         5.000000"
            ]
          },
          "metadata": {
            "tags": []
          },
          "execution_count": 126
        }
      ]
    },
    {
      "cell_type": "code",
      "metadata": {
        "id": "csZIw7w-CdVq",
        "colab": {
          "base_uri": "https://localhost:8080/",
          "height": 76
        },
        "outputId": "007e6ab9-0779-452f-85ed-c21ab873d4e4"
      },
      "source": [
        "data[data.Salary == 10000] #highest paid job in the dataset"
      ],
      "execution_count": 127,
      "outputs": [
        {
          "output_type": "execute_result",
          "data": {
            "text/html": [
              "<div>\n",
              "<style scoped>\n",
              "    .dataframe tbody tr th:only-of-type {\n",
              "        vertical-align: middle;\n",
              "    }\n",
              "\n",
              "    .dataframe tbody tr th {\n",
              "        vertical-align: top;\n",
              "    }\n",
              "\n",
              "    .dataframe thead th {\n",
              "        text-align: right;\n",
              "    }\n",
              "</style>\n",
              "<table border=\"1\" class=\"dataframe\">\n",
              "  <thead>\n",
              "    <tr style=\"text-align: right;\">\n",
              "      <th></th>\n",
              "      <th>First Name</th>\n",
              "      <th>Last  Name</th>\n",
              "      <th>Gender</th>\n",
              "      <th>Age</th>\n",
              "      <th>Occupation</th>\n",
              "      <th>Salary</th>\n",
              "      <th>Marital Status</th>\n",
              "      <th>No. of Children</th>\n",
              "    </tr>\n",
              "  </thead>\n",
              "  <tbody>\n",
              "    <tr>\n",
              "      <th>152</th>\n",
              "      <td>Myra</td>\n",
              "      <td>Grant</td>\n",
              "      <td>Female</td>\n",
              "      <td>47</td>\n",
              "      <td>Graphic Designer</td>\n",
              "      <td>10000</td>\n",
              "      <td>Married</td>\n",
              "      <td>2</td>\n",
              "    </tr>\n",
              "  </tbody>\n",
              "</table>\n",
              "</div>"
            ],
            "text/plain": [
              "    First Name Last  Name  Gender  ...  Salary Marital Status  No. of Children\n",
              "152       Myra      Grant  Female  ...   10000        Married                2\n",
              "\n",
              "[1 rows x 8 columns]"
            ]
          },
          "metadata": {
            "tags": []
          },
          "execution_count": 127
        }
      ]
    },
    {
      "cell_type": "code",
      "metadata": {
        "id": "zdyTwc8ACdVr",
        "colab": {
          "base_uri": "https://localhost:8080/",
          "height": 76
        },
        "outputId": "bed087d7-6d14-4bac-9cba-6cd59ae391bd"
      },
      "source": [
        "data[data.Salary == min(data.Salary)] #least paid job in the dataset"
      ],
      "execution_count": 128,
      "outputs": [
        {
          "output_type": "execute_result",
          "data": {
            "text/html": [
              "<div>\n",
              "<style scoped>\n",
              "    .dataframe tbody tr th:only-of-type {\n",
              "        vertical-align: middle;\n",
              "    }\n",
              "\n",
              "    .dataframe tbody tr th {\n",
              "        vertical-align: top;\n",
              "    }\n",
              "\n",
              "    .dataframe thead th {\n",
              "        text-align: right;\n",
              "    }\n",
              "</style>\n",
              "<table border=\"1\" class=\"dataframe\">\n",
              "  <thead>\n",
              "    <tr style=\"text-align: right;\">\n",
              "      <th></th>\n",
              "      <th>First Name</th>\n",
              "      <th>Last  Name</th>\n",
              "      <th>Gender</th>\n",
              "      <th>Age</th>\n",
              "      <th>Occupation</th>\n",
              "      <th>Salary</th>\n",
              "      <th>Marital Status</th>\n",
              "      <th>No. of Children</th>\n",
              "    </tr>\n",
              "  </thead>\n",
              "  <tbody>\n",
              "    <tr>\n",
              "      <th>308</th>\n",
              "      <td>Penelope</td>\n",
              "      <td>Henderson</td>\n",
              "      <td>Female</td>\n",
              "      <td>38</td>\n",
              "      <td>Singer</td>\n",
              "      <td>520</td>\n",
              "      <td>Single</td>\n",
              "      <td>5</td>\n",
              "    </tr>\n",
              "  </tbody>\n",
              "</table>\n",
              "</div>"
            ],
            "text/plain": [
              "    First Name Last  Name  Gender  ...  Salary Marital Status  No. of Children\n",
              "308   Penelope  Henderson  Female  ...     520         Single                5\n",
              "\n",
              "[1 rows x 8 columns]"
            ]
          },
          "metadata": {
            "tags": []
          },
          "execution_count": 128
        }
      ]
    },
    {
      "cell_type": "code",
      "metadata": {
        "id": "Pa-mF5BQCdVr",
        "colab": {
          "base_uri": "https://localhost:8080/"
        },
        "outputId": "11be314f-a9af-4e11-87ef-b1c0f3c28cf7"
      },
      "source": [
        "Counter(data['First Name']).most_common(5) #most common names"
      ],
      "execution_count": 129,
      "outputs": [
        {
          "output_type": "execute_result",
          "data": {
            "text/plain": [
              "[('Ryan', 13), ('Tara', 12), ('Frederick', 11), ('Arianna', 11), ('Edgar', 10)]"
            ]
          },
          "metadata": {
            "tags": []
          },
          "execution_count": 129
        }
      ]
    },
    {
      "cell_type": "code",
      "metadata": {
        "id": "oJiJ9xZbCdVr",
        "colab": {
          "base_uri": "https://localhost:8080/"
        },
        "outputId": "226e5d78-c120-4aa7-e595-135164dbe34d"
      },
      "source": [
        "Counter(data['Last  Name']).most_common(5) #most common surnames"
      ],
      "execution_count": 130,
      "outputs": [
        {
          "output_type": "execute_result",
          "data": {
            "text/plain": [
              "[('Thomas', 17),\n",
              " ('Watson', 16),\n",
              " ('Farrell', 15),\n",
              " ('Parker', 15),\n",
              " ('Kelly', 15)]"
            ]
          },
          "metadata": {
            "tags": []
          },
          "execution_count": 130
        }
      ]
    },
    {
      "cell_type": "code",
      "metadata": {
        "id": "6QB9OBcDCdVs",
        "colab": {
          "base_uri": "https://localhost:8080/",
          "height": 318
        },
        "outputId": "6a582411-3eb1-4c3d-99d0-31e4fff425c9"
      },
      "source": [
        "bin_list = [15,30,45,60]\n",
        "plt.hist(data.Age, bins = bin_list) \n",
        "\n",
        "# dataset has more older people than younger people "
      ],
      "execution_count": 131,
      "outputs": [
        {
          "output_type": "execute_result",
          "data": {
            "text/plain": [
              "(array([268., 329., 403.]),\n",
              " array([15, 30, 45, 60]),\n",
              " <a list of 3 Patch objects>)"
            ]
          },
          "metadata": {
            "tags": []
          },
          "execution_count": 131
        },
        {
          "output_type": "display_data",
          "data": {
            "image/png": "[encoded data removed]",
            "text/plain": [
              "<Figure size 432x288 with 1 Axes>"
            ]
          },
          "metadata": {
            "tags": [],
            "needs_background": "light"
          }
        }
      ]
    },
    {
      "cell_type": "markdown",
      "metadata": {
        "id": "SDPoYTpKCdVt"
      },
      "source": [
        "# Grouping Data"
      ]
    },
    {
      "cell_type": "code",
      "metadata": {
        "scrolled": true,
        "id": "0-uM0U6QCdVt",
        "colab": {
          "base_uri": "https://localhost:8080/",
          "height": 1000
        },
        "outputId": "d174b09c-ddeb-4229-f389-80aa1dbeddca"
      },
      "source": [
        "occupation_grouped = data.groupby(['Occupation']).mean()\n",
        "martial_grouped = data.groupby(['Marital Status']).mean()\n",
        "gender_grouped = data.groupby(['Gender']).mean()\n",
        "occupation_grouped"
      ],
      "execution_count": 132,
      "outputs": [
        {
          "output_type": "execute_result",
          "data": {
            "text/html": [
              "<div>\n",
              "<style scoped>\n",
              "    .dataframe tbody tr th:only-of-type {\n",
              "        vertical-align: middle;\n",
              "    }\n",
              "\n",
              "    .dataframe tbody tr th {\n",
              "        vertical-align: top;\n",
              "    }\n",
              "\n",
              "    .dataframe thead th {\n",
              "        text-align: right;\n",
              "    }\n",
              "</style>\n",
              "<table border=\"1\" class=\"dataframe\">\n",
              "  <thead>\n",
              "    <tr style=\"text-align: right;\">\n",
              "      <th></th>\n",
              "      <th>Age</th>\n",
              "      <th>Salary</th>\n",
              "      <th>No. of Children</th>\n",
              "    </tr>\n",
              "    <tr>\n",
              "      <th>Occupation</th>\n",
              "      <th></th>\n",
              "      <th></th>\n",
              "      <th></th>\n",
              "    </tr>\n",
              "  </thead>\n",
              "  <tbody>\n",
              "    <tr>\n",
              "      <th>Accountant</th>\n",
              "      <td>44.538462</td>\n",
              "      <td>6615.000000</td>\n",
              "      <td>2.769231</td>\n",
              "    </tr>\n",
              "    <tr>\n",
              "      <th>Actor</th>\n",
              "      <td>33.812500</td>\n",
              "      <td>4631.375000</td>\n",
              "      <td>2.187500</td>\n",
              "    </tr>\n",
              "    <tr>\n",
              "      <th>Aeroplane Pilot</th>\n",
              "      <td>38.750000</td>\n",
              "      <td>6691.166667</td>\n",
              "      <td>2.250000</td>\n",
              "    </tr>\n",
              "    <tr>\n",
              "      <th>Agronomist</th>\n",
              "      <td>37.166667</td>\n",
              "      <td>4860.291667</td>\n",
              "      <td>2.583333</td>\n",
              "    </tr>\n",
              "    <tr>\n",
              "      <th>Archeologist</th>\n",
              "      <td>43.650000</td>\n",
              "      <td>6117.300000</td>\n",
              "      <td>1.700000</td>\n",
              "    </tr>\n",
              "    <tr>\n",
              "      <th>Architect</th>\n",
              "      <td>37.181818</td>\n",
              "      <td>5569.863636</td>\n",
              "      <td>2.409091</td>\n",
              "    </tr>\n",
              "    <tr>\n",
              "      <th>Astronomer</th>\n",
              "      <td>32.888889</td>\n",
              "      <td>4632.944444</td>\n",
              "      <td>2.388889</td>\n",
              "    </tr>\n",
              "    <tr>\n",
              "      <th>Auditor</th>\n",
              "      <td>34.190476</td>\n",
              "      <td>5252.047619</td>\n",
              "      <td>1.666667</td>\n",
              "    </tr>\n",
              "    <tr>\n",
              "      <th>Baker</th>\n",
              "      <td>39.294118</td>\n",
              "      <td>4868.647059</td>\n",
              "      <td>3.058824</td>\n",
              "    </tr>\n",
              "    <tr>\n",
              "      <th>Biochemist</th>\n",
              "      <td>40.750000</td>\n",
              "      <td>5160.357143</td>\n",
              "      <td>2.357143</td>\n",
              "    </tr>\n",
              "    <tr>\n",
              "      <th>Botanist</th>\n",
              "      <td>37.043478</td>\n",
              "      <td>4559.130435</td>\n",
              "      <td>2.434783</td>\n",
              "    </tr>\n",
              "    <tr>\n",
              "      <th>Carpenter</th>\n",
              "      <td>41.437500</td>\n",
              "      <td>5910.125000</td>\n",
              "      <td>2.875000</td>\n",
              "    </tr>\n",
              "    <tr>\n",
              "      <th>Chef</th>\n",
              "      <td>41.863636</td>\n",
              "      <td>6125.500000</td>\n",
              "      <td>2.454545</td>\n",
              "    </tr>\n",
              "    <tr>\n",
              "      <th>Chemist</th>\n",
              "      <td>41.071429</td>\n",
              "      <td>5132.357143</td>\n",
              "      <td>2.142857</td>\n",
              "    </tr>\n",
              "    <tr>\n",
              "      <th>Composer</th>\n",
              "      <td>40.111111</td>\n",
              "      <td>5501.055556</td>\n",
              "      <td>3.222222</td>\n",
              "    </tr>\n",
              "    <tr>\n",
              "      <th>Cook</th>\n",
              "      <td>40.100000</td>\n",
              "      <td>3706.000000</td>\n",
              "      <td>1.900000</td>\n",
              "    </tr>\n",
              "    <tr>\n",
              "      <th>Dancer</th>\n",
              "      <td>40.285714</td>\n",
              "      <td>6206.714286</td>\n",
              "      <td>2.928571</td>\n",
              "    </tr>\n",
              "    <tr>\n",
              "      <th>Driver</th>\n",
              "      <td>42.583333</td>\n",
              "      <td>5408.958333</td>\n",
              "      <td>2.875000</td>\n",
              "    </tr>\n",
              "    <tr>\n",
              "      <th>Economist</th>\n",
              "      <td>44.052632</td>\n",
              "      <td>5748.842105</td>\n",
              "      <td>2.368421</td>\n",
              "    </tr>\n",
              "    <tr>\n",
              "      <th>Electrician</th>\n",
              "      <td>41.000000</td>\n",
              "      <td>4961.391304</td>\n",
              "      <td>2.000000</td>\n",
              "    </tr>\n",
              "    <tr>\n",
              "      <th>Engineer</th>\n",
              "      <td>37.652174</td>\n",
              "      <td>6021.173913</td>\n",
              "      <td>2.347826</td>\n",
              "    </tr>\n",
              "    <tr>\n",
              "      <th>Fashion Designer</th>\n",
              "      <td>40.428571</td>\n",
              "      <td>5481.785714</td>\n",
              "      <td>2.428571</td>\n",
              "    </tr>\n",
              "    <tr>\n",
              "      <th>Fine Artist</th>\n",
              "      <td>36.000000</td>\n",
              "      <td>5410.000000</td>\n",
              "      <td>2.526316</td>\n",
              "    </tr>\n",
              "    <tr>\n",
              "      <th>Firefighter</th>\n",
              "      <td>38.466667</td>\n",
              "      <td>6578.600000</td>\n",
              "      <td>2.133333</td>\n",
              "    </tr>\n",
              "    <tr>\n",
              "      <th>Florist</th>\n",
              "      <td>44.294118</td>\n",
              "      <td>3832.529412</td>\n",
              "      <td>2.705882</td>\n",
              "    </tr>\n",
              "    <tr>\n",
              "      <th>Geologist</th>\n",
              "      <td>38.368421</td>\n",
              "      <td>5038.105263</td>\n",
              "      <td>2.684211</td>\n",
              "    </tr>\n",
              "    <tr>\n",
              "      <th>Graphic Designer</th>\n",
              "      <td>40.384615</td>\n",
              "      <td>4773.461538</td>\n",
              "      <td>2.692308</td>\n",
              "    </tr>\n",
              "    <tr>\n",
              "      <th>Hairdresser</th>\n",
              "      <td>35.222222</td>\n",
              "      <td>4959.777778</td>\n",
              "      <td>2.777778</td>\n",
              "    </tr>\n",
              "    <tr>\n",
              "      <th>Historian</th>\n",
              "      <td>40.000000</td>\n",
              "      <td>5372.727273</td>\n",
              "      <td>2.318182</td>\n",
              "    </tr>\n",
              "    <tr>\n",
              "      <th>Insurer</th>\n",
              "      <td>40.724138</td>\n",
              "      <td>5571.517241</td>\n",
              "      <td>2.413793</td>\n",
              "    </tr>\n",
              "    <tr>\n",
              "      <th>Interior Designer</th>\n",
              "      <td>40.590909</td>\n",
              "      <td>4817.090909</td>\n",
              "      <td>2.272727</td>\n",
              "    </tr>\n",
              "    <tr>\n",
              "      <th>Interpreter</th>\n",
              "      <td>37.700000</td>\n",
              "      <td>5165.800000</td>\n",
              "      <td>2.700000</td>\n",
              "    </tr>\n",
              "    <tr>\n",
              "      <th>Jeweller</th>\n",
              "      <td>34.529412</td>\n",
              "      <td>4022.764706</td>\n",
              "      <td>1.764706</td>\n",
              "    </tr>\n",
              "    <tr>\n",
              "      <th>Journalist</th>\n",
              "      <td>40.142857</td>\n",
              "      <td>6035.142857</td>\n",
              "      <td>2.285714</td>\n",
              "    </tr>\n",
              "    <tr>\n",
              "      <th>Lawer</th>\n",
              "      <td>42.714286</td>\n",
              "      <td>5648.285714</td>\n",
              "      <td>2.190476</td>\n",
              "    </tr>\n",
              "    <tr>\n",
              "      <th>Lecturer</th>\n",
              "      <td>40.173913</td>\n",
              "      <td>5255.956522</td>\n",
              "      <td>1.869565</td>\n",
              "    </tr>\n",
              "    <tr>\n",
              "      <th>Manager</th>\n",
              "      <td>42.142857</td>\n",
              "      <td>4435.214286</td>\n",
              "      <td>1.857143</td>\n",
              "    </tr>\n",
              "    <tr>\n",
              "      <th>Mathematician</th>\n",
              "      <td>44.388889</td>\n",
              "      <td>4674.833333</td>\n",
              "      <td>2.444444</td>\n",
              "    </tr>\n",
              "    <tr>\n",
              "      <th>Mechanic</th>\n",
              "      <td>35.250000</td>\n",
              "      <td>6884.500000</td>\n",
              "      <td>2.500000</td>\n",
              "    </tr>\n",
              "    <tr>\n",
              "      <th>Medic</th>\n",
              "      <td>39.263158</td>\n",
              "      <td>5045.421053</td>\n",
              "      <td>3.105263</td>\n",
              "    </tr>\n",
              "    <tr>\n",
              "      <th>Meteorologist</th>\n",
              "      <td>40.789474</td>\n",
              "      <td>6166.315789</td>\n",
              "      <td>2.684211</td>\n",
              "    </tr>\n",
              "    <tr>\n",
              "      <th>Pharmacist</th>\n",
              "      <td>38.684211</td>\n",
              "      <td>4880.315789</td>\n",
              "      <td>2.210526</td>\n",
              "    </tr>\n",
              "    <tr>\n",
              "      <th>Photographer</th>\n",
              "      <td>44.066667</td>\n",
              "      <td>3581.533333</td>\n",
              "      <td>2.400000</td>\n",
              "    </tr>\n",
              "    <tr>\n",
              "      <th>Physicist</th>\n",
              "      <td>35.882353</td>\n",
              "      <td>5151.764706</td>\n",
              "      <td>2.529412</td>\n",
              "    </tr>\n",
              "    <tr>\n",
              "      <th>Police Officer</th>\n",
              "      <td>36.000000</td>\n",
              "      <td>6554.866667</td>\n",
              "      <td>3.066667</td>\n",
              "    </tr>\n",
              "    <tr>\n",
              "      <th>Producer</th>\n",
              "      <td>40.863636</td>\n",
              "      <td>5803.000000</td>\n",
              "      <td>2.454545</td>\n",
              "    </tr>\n",
              "    <tr>\n",
              "      <th>Programmer</th>\n",
              "      <td>40.000000</td>\n",
              "      <td>4519.625000</td>\n",
              "      <td>2.833333</td>\n",
              "    </tr>\n",
              "    <tr>\n",
              "      <th>Salesman</th>\n",
              "      <td>38.450000</td>\n",
              "      <td>4915.000000</td>\n",
              "      <td>2.200000</td>\n",
              "    </tr>\n",
              "    <tr>\n",
              "      <th>Scientist</th>\n",
              "      <td>43.555556</td>\n",
              "      <td>4678.444444</td>\n",
              "      <td>3.444444</td>\n",
              "    </tr>\n",
              "    <tr>\n",
              "      <th>Singer</th>\n",
              "      <td>36.916667</td>\n",
              "      <td>5689.000000</td>\n",
              "      <td>2.583333</td>\n",
              "    </tr>\n",
              "    <tr>\n",
              "      <th>Social Worker</th>\n",
              "      <td>40.944444</td>\n",
              "      <td>4731.333333</td>\n",
              "      <td>2.055556</td>\n",
              "    </tr>\n",
              "    <tr>\n",
              "      <th>Teacher</th>\n",
              "      <td>39.100000</td>\n",
              "      <td>5413.450000</td>\n",
              "      <td>2.800000</td>\n",
              "    </tr>\n",
              "    <tr>\n",
              "      <th>Veterinarian</th>\n",
              "      <td>43.500000</td>\n",
              "      <td>5500.700000</td>\n",
              "      <td>2.450000</td>\n",
              "    </tr>\n",
              "  </tbody>\n",
              "</table>\n",
              "</div>"
            ],
            "text/plain": [
              "                         Age       Salary  No. of Children\n",
              "Occupation                                                \n",
              "Accountant         44.538462  6615.000000         2.769231\n",
              "Actor              33.812500  4631.375000         2.187500\n",
              "Aeroplane Pilot    38.750000  6691.166667         2.250000\n",
              "Agronomist         37.166667  4860.291667         2.583333\n",
              "Archeologist       43.650000  6117.300000         1.700000\n",
              "Architect          37.181818  5569.863636         2.409091\n",
              "Astronomer         32.888889  4632.944444         2.388889\n",
              "Auditor            34.190476  5252.047619         1.666667\n",
              "Baker              39.294118  4868.647059         3.058824\n",
              "Biochemist         40.750000  5160.357143         2.357143\n",
              "Botanist           37.043478  4559.130435         2.434783\n",
              "Carpenter          41.437500  5910.125000         2.875000\n",
              "Chef               41.863636  6125.500000         2.454545\n",
              "Chemist            41.071429  5132.357143         2.142857\n",
              "Composer           40.111111  5501.055556         3.222222\n",
              "Cook               40.100000  3706.000000         1.900000\n",
              "Dancer             40.285714  6206.714286         2.928571\n",
              "Driver             42.583333  5408.958333         2.875000\n",
              "Economist          44.052632  5748.842105         2.368421\n",
              "Electrician        41.000000  4961.391304         2.000000\n",
              "Engineer           37.652174  6021.173913         2.347826\n",
              "Fashion Designer   40.428571  5481.785714         2.428571\n",
              "Fine Artist        36.000000  5410.000000         2.526316\n",
              "Firefighter        38.466667  6578.600000         2.133333\n",
              "Florist            44.294118  3832.529412         2.705882\n",
              "Geologist          38.368421  5038.105263         2.684211\n",
              "Graphic Designer   40.384615  4773.461538         2.692308\n",
              "Hairdresser        35.222222  4959.777778         2.777778\n",
              "Historian          40.000000  5372.727273         2.318182\n",
              "Insurer            40.724138  5571.517241         2.413793\n",
              "Interior Designer  40.590909  4817.090909         2.272727\n",
              "Interpreter        37.700000  5165.800000         2.700000\n",
              "Jeweller           34.529412  4022.764706         1.764706\n",
              "Journalist         40.142857  6035.142857         2.285714\n",
              "Lawer              42.714286  5648.285714         2.190476\n",
              "Lecturer           40.173913  5255.956522         1.869565\n",
              "Manager            42.142857  4435.214286         1.857143\n",
              "Mathematician      44.388889  4674.833333         2.444444\n",
              "Mechanic           35.250000  6884.500000         2.500000\n",
              "Medic              39.263158  5045.421053         3.105263\n",
              "Meteorologist      40.789474  6166.315789         2.684211\n",
              "Pharmacist         38.684211  4880.315789         2.210526\n",
              "Photographer       44.066667  3581.533333         2.400000\n",
              "Physicist          35.882353  5151.764706         2.529412\n",
              "Police Officer     36.000000  6554.866667         3.066667\n",
              "Producer           40.863636  5803.000000         2.454545\n",
              "Programmer         40.000000  4519.625000         2.833333\n",
              "Salesman           38.450000  4915.000000         2.200000\n",
              "Scientist          43.555556  4678.444444         3.444444\n",
              "Singer             36.916667  5689.000000         2.583333\n",
              "Social Worker      40.944444  4731.333333         2.055556\n",
              "Teacher            39.100000  5413.450000         2.800000\n",
              "Veterinarian       43.500000  5500.700000         2.450000"
            ]
          },
          "metadata": {
            "tags": []
          },
          "execution_count": 132
        }
      ]
    },
    {
      "cell_type": "code",
      "metadata": {
        "scrolled": true,
        "id": "9KMIlg9xCdVs",
        "colab": {
          "base_uri": "https://localhost:8080/",
          "height": 223
        },
        "outputId": "3264d92b-8a9e-4bcc-8978-768526a5e4ef"
      },
      "source": [
        "#Highest Paying Jobs\n",
        "occupation_grouped.sort_values(by = ['Salary'],ascending=False).head()"
      ],
      "execution_count": 133,
      "outputs": [
        {
          "output_type": "execute_result",
          "data": {
            "text/html": [
              "<div>\n",
              "<style scoped>\n",
              "    .dataframe tbody tr th:only-of-type {\n",
              "        vertical-align: middle;\n",
              "    }\n",
              "\n",
              "    .dataframe tbody tr th {\n",
              "        vertical-align: top;\n",
              "    }\n",
              "\n",
              "    .dataframe thead th {\n",
              "        text-align: right;\n",
              "    }\n",
              "</style>\n",
              "<table border=\"1\" class=\"dataframe\">\n",
              "  <thead>\n",
              "    <tr style=\"text-align: right;\">\n",
              "      <th></th>\n",
              "      <th>Age</th>\n",
              "      <th>Salary</th>\n",
              "      <th>No. of Children</th>\n",
              "    </tr>\n",
              "    <tr>\n",
              "      <th>Occupation</th>\n",
              "      <th></th>\n",
              "      <th></th>\n",
              "      <th></th>\n",
              "    </tr>\n",
              "  </thead>\n",
              "  <tbody>\n",
              "    <tr>\n",
              "      <th>Mechanic</th>\n",
              "      <td>35.250000</td>\n",
              "      <td>6884.500000</td>\n",
              "      <td>2.500000</td>\n",
              "    </tr>\n",
              "    <tr>\n",
              "      <th>Aeroplane Pilot</th>\n",
              "      <td>38.750000</td>\n",
              "      <td>6691.166667</td>\n",
              "      <td>2.250000</td>\n",
              "    </tr>\n",
              "    <tr>\n",
              "      <th>Accountant</th>\n",
              "      <td>44.538462</td>\n",
              "      <td>6615.000000</td>\n",
              "      <td>2.769231</td>\n",
              "    </tr>\n",
              "    <tr>\n",
              "      <th>Firefighter</th>\n",
              "      <td>38.466667</td>\n",
              "      <td>6578.600000</td>\n",
              "      <td>2.133333</td>\n",
              "    </tr>\n",
              "    <tr>\n",
              "      <th>Police Officer</th>\n",
              "      <td>36.000000</td>\n",
              "      <td>6554.866667</td>\n",
              "      <td>3.066667</td>\n",
              "    </tr>\n",
              "  </tbody>\n",
              "</table>\n",
              "</div>"
            ],
            "text/plain": [
              "                       Age       Salary  No. of Children\n",
              "Occupation                                              \n",
              "Mechanic         35.250000  6884.500000         2.500000\n",
              "Aeroplane Pilot  38.750000  6691.166667         2.250000\n",
              "Accountant       44.538462  6615.000000         2.769231\n",
              "Firefighter      38.466667  6578.600000         2.133333\n",
              "Police Officer   36.000000  6554.866667         3.066667"
            ]
          },
          "metadata": {
            "tags": []
          },
          "execution_count": 133
        }
      ]
    },
    {
      "cell_type": "code",
      "metadata": {
        "id": "lRSD_xNpCdVs",
        "colab": {
          "base_uri": "https://localhost:8080/",
          "height": 223
        },
        "outputId": "b50e1350-8ec6-4572-d295-72be334b8976"
      },
      "source": [
        "# lowest paying jobs \n",
        "occupation_grouped.sort_values(by = ['Salary']).head()"
      ],
      "execution_count": 134,
      "outputs": [
        {
          "output_type": "execute_result",
          "data": {
            "text/html": [
              "<div>\n",
              "<style scoped>\n",
              "    .dataframe tbody tr th:only-of-type {\n",
              "        vertical-align: middle;\n",
              "    }\n",
              "\n",
              "    .dataframe tbody tr th {\n",
              "        vertical-align: top;\n",
              "    }\n",
              "\n",
              "    .dataframe thead th {\n",
              "        text-align: right;\n",
              "    }\n",
              "</style>\n",
              "<table border=\"1\" class=\"dataframe\">\n",
              "  <thead>\n",
              "    <tr style=\"text-align: right;\">\n",
              "      <th></th>\n",
              "      <th>Age</th>\n",
              "      <th>Salary</th>\n",
              "      <th>No. of Children</th>\n",
              "    </tr>\n",
              "    <tr>\n",
              "      <th>Occupation</th>\n",
              "      <th></th>\n",
              "      <th></th>\n",
              "      <th></th>\n",
              "    </tr>\n",
              "  </thead>\n",
              "  <tbody>\n",
              "    <tr>\n",
              "      <th>Photographer</th>\n",
              "      <td>44.066667</td>\n",
              "      <td>3581.533333</td>\n",
              "      <td>2.400000</td>\n",
              "    </tr>\n",
              "    <tr>\n",
              "      <th>Cook</th>\n",
              "      <td>40.100000</td>\n",
              "      <td>3706.000000</td>\n",
              "      <td>1.900000</td>\n",
              "    </tr>\n",
              "    <tr>\n",
              "      <th>Florist</th>\n",
              "      <td>44.294118</td>\n",
              "      <td>3832.529412</td>\n",
              "      <td>2.705882</td>\n",
              "    </tr>\n",
              "    <tr>\n",
              "      <th>Jeweller</th>\n",
              "      <td>34.529412</td>\n",
              "      <td>4022.764706</td>\n",
              "      <td>1.764706</td>\n",
              "    </tr>\n",
              "    <tr>\n",
              "      <th>Manager</th>\n",
              "      <td>42.142857</td>\n",
              "      <td>4435.214286</td>\n",
              "      <td>1.857143</td>\n",
              "    </tr>\n",
              "  </tbody>\n",
              "</table>\n",
              "</div>"
            ],
            "text/plain": [
              "                    Age       Salary  No. of Children\n",
              "Occupation                                           \n",
              "Photographer  44.066667  3581.533333         2.400000\n",
              "Cook          40.100000  3706.000000         1.900000\n",
              "Florist       44.294118  3832.529412         2.705882\n",
              "Jeweller      34.529412  4022.764706         1.764706\n",
              "Manager       42.142857  4435.214286         1.857143"
            ]
          },
          "metadata": {
            "tags": []
          },
          "execution_count": 134
        }
      ]
    },
    {
      "cell_type": "code",
      "metadata": {
        "id": "F4hCwmTzCdVt"
      },
      "source": [
        ""
      ],
      "execution_count": 134,
      "outputs": []
    },
    {
      "cell_type": "code",
      "metadata": {
        "id": "fvwDQBRyCdVt",
        "colab": {
          "base_uri": "https://localhost:8080/",
          "height": 223
        },
        "outputId": "d39769b2-b468-4bd4-9d04-db3e8af42d6b"
      },
      "source": [
        "# Jobs with a older age group\n",
        "occupation_grouped.sort_values(by = ['Age'],ascending=False).head()"
      ],
      "execution_count": 135,
      "outputs": [
        {
          "output_type": "execute_result",
          "data": {
            "text/html": [
              "<div>\n",
              "<style scoped>\n",
              "    .dataframe tbody tr th:only-of-type {\n",
              "        vertical-align: middle;\n",
              "    }\n",
              "\n",
              "    .dataframe tbody tr th {\n",
              "        vertical-align: top;\n",
              "    }\n",
              "\n",
              "    .dataframe thead th {\n",
              "        text-align: right;\n",
              "    }\n",
              "</style>\n",
              "<table border=\"1\" class=\"dataframe\">\n",
              "  <thead>\n",
              "    <tr style=\"text-align: right;\">\n",
              "      <th></th>\n",
              "      <th>Age</th>\n",
              "      <th>Salary</th>\n",
              "      <th>No. of Children</th>\n",
              "    </tr>\n",
              "    <tr>\n",
              "      <th>Occupation</th>\n",
              "      <th></th>\n",
              "      <th></th>\n",
              "      <th></th>\n",
              "    </tr>\n",
              "  </thead>\n",
              "  <tbody>\n",
              "    <tr>\n",
              "      <th>Accountant</th>\n",
              "      <td>44.538462</td>\n",
              "      <td>6615.000000</td>\n",
              "      <td>2.769231</td>\n",
              "    </tr>\n",
              "    <tr>\n",
              "      <th>Mathematician</th>\n",
              "      <td>44.388889</td>\n",
              "      <td>4674.833333</td>\n",
              "      <td>2.444444</td>\n",
              "    </tr>\n",
              "    <tr>\n",
              "      <th>Florist</th>\n",
              "      <td>44.294118</td>\n",
              "      <td>3832.529412</td>\n",
              "      <td>2.705882</td>\n",
              "    </tr>\n",
              "    <tr>\n",
              "      <th>Photographer</th>\n",
              "      <td>44.066667</td>\n",
              "      <td>3581.533333</td>\n",
              "      <td>2.400000</td>\n",
              "    </tr>\n",
              "    <tr>\n",
              "      <th>Economist</th>\n",
              "      <td>44.052632</td>\n",
              "      <td>5748.842105</td>\n",
              "      <td>2.368421</td>\n",
              "    </tr>\n",
              "  </tbody>\n",
              "</table>\n",
              "</div>"
            ],
            "text/plain": [
              "                     Age       Salary  No. of Children\n",
              "Occupation                                            \n",
              "Accountant     44.538462  6615.000000         2.769231\n",
              "Mathematician  44.388889  4674.833333         2.444444\n",
              "Florist        44.294118  3832.529412         2.705882\n",
              "Photographer   44.066667  3581.533333         2.400000\n",
              "Economist      44.052632  5748.842105         2.368421"
            ]
          },
          "metadata": {
            "tags": []
          },
          "execution_count": 135
        }
      ]
    },
    {
      "cell_type": "code",
      "metadata": {
        "id": "G1ZCVsnjCdVu",
        "colab": {
          "base_uri": "https://localhost:8080/",
          "height": 223
        },
        "outputId": "b50d35e4-c08f-4434-918d-0445edfc29c0"
      },
      "source": [
        "#Jobs with a relatively younger age group\n",
        "occupation_grouped.sort_values(by = ['Age']).head()"
      ],
      "execution_count": 136,
      "outputs": [
        {
          "output_type": "execute_result",
          "data": {
            "text/html": [
              "<div>\n",
              "<style scoped>\n",
              "    .dataframe tbody tr th:only-of-type {\n",
              "        vertical-align: middle;\n",
              "    }\n",
              "\n",
              "    .dataframe tbody tr th {\n",
              "        vertical-align: top;\n",
              "    }\n",
              "\n",
              "    .dataframe thead th {\n",
              "        text-align: right;\n",
              "    }\n",
              "</style>\n",
              "<table border=\"1\" class=\"dataframe\">\n",
              "  <thead>\n",
              "    <tr style=\"text-align: right;\">\n",
              "      <th></th>\n",
              "      <th>Age</th>\n",
              "      <th>Salary</th>\n",
              "      <th>No. of Children</th>\n",
              "    </tr>\n",
              "    <tr>\n",
              "      <th>Occupation</th>\n",
              "      <th></th>\n",
              "      <th></th>\n",
              "      <th></th>\n",
              "    </tr>\n",
              "  </thead>\n",
              "  <tbody>\n",
              "    <tr>\n",
              "      <th>Astronomer</th>\n",
              "      <td>32.888889</td>\n",
              "      <td>4632.944444</td>\n",
              "      <td>2.388889</td>\n",
              "    </tr>\n",
              "    <tr>\n",
              "      <th>Actor</th>\n",
              "      <td>33.812500</td>\n",
              "      <td>4631.375000</td>\n",
              "      <td>2.187500</td>\n",
              "    </tr>\n",
              "    <tr>\n",
              "      <th>Auditor</th>\n",
              "      <td>34.190476</td>\n",
              "      <td>5252.047619</td>\n",
              "      <td>1.666667</td>\n",
              "    </tr>\n",
              "    <tr>\n",
              "      <th>Jeweller</th>\n",
              "      <td>34.529412</td>\n",
              "      <td>4022.764706</td>\n",
              "      <td>1.764706</td>\n",
              "    </tr>\n",
              "    <tr>\n",
              "      <th>Hairdresser</th>\n",
              "      <td>35.222222</td>\n",
              "      <td>4959.777778</td>\n",
              "      <td>2.777778</td>\n",
              "    </tr>\n",
              "  </tbody>\n",
              "</table>\n",
              "</div>"
            ],
            "text/plain": [
              "                   Age       Salary  No. of Children\n",
              "Occupation                                          \n",
              "Astronomer   32.888889  4632.944444         2.388889\n",
              "Actor        33.812500  4631.375000         2.187500\n",
              "Auditor      34.190476  5252.047619         1.666667\n",
              "Jeweller     34.529412  4022.764706         1.764706\n",
              "Hairdresser  35.222222  4959.777778         2.777778"
            ]
          },
          "metadata": {
            "tags": []
          },
          "execution_count": 136
        }
      ]
    },
    {
      "cell_type": "code",
      "metadata": {
        "id": "wfG4kkNdCdVu"
      },
      "source": [
        "lawer_data = data[data.Occupation == 'Lawer']\n",
        "acc_data = data[data.Occupation == 'Accountant']\n",
        "photo_data = data[data.Occupation == 'Photographer']\n",
        "singer_data = data[data.Occupation == 'Singer']"
      ],
      "execution_count": 137,
      "outputs": []
    },
    {
      "cell_type": "code",
      "metadata": {
        "id": "JShUg0HqCdVu",
        "colab": {
          "base_uri": "https://localhost:8080/"
        },
        "outputId": "d432c202-b03b-4400-e1d9-ff2bdd257dd3"
      },
      "source": [
        "# here we ignore no of children\n",
        "\n",
        "# in case of accountants the salary increases with time \n",
        "#(which we can suggest that the job depends more on seniority rather than skills/expertise as that in case of an lawer)\n",
        "#similary for photographer & singer the skills matter than the age of the artist \n",
        "# in creative field age & salary do not have a correlation \n",
        "\n",
        "print('Lawer')\n",
        "print(lawer_data.corr())\n",
        "print()\n",
        "print('\\nAcc')\n",
        "print(acc_data.corr())\n",
        "print('\\n\\nPhotographer')\n",
        "print(photo_data.corr())\n",
        "print('\\n\\nSinger')\n",
        "print(singer_data.corr())"
      ],
      "execution_count": 81,
      "outputs": [
        {
          "output_type": "stream",
          "text": [
            "Lawer\n",
            "                      Age    Salary  No. of Children\n",
            "Age              1.000000  0.113516        -0.164614\n",
            "Salary           0.113516  1.000000        -0.232714\n",
            "No. of Children -0.164614 -0.232714         1.000000\n",
            "\n",
            "\n",
            "Acc\n",
            "                      Age    Salary  No. of Children\n",
            "Age              1.000000  0.418212        -0.075559\n",
            "Salary           0.418212  1.000000        -0.599705\n",
            "No. of Children -0.075559 -0.599705         1.000000\n",
            "\n",
            "\n",
            "Photographer\n",
            "                      Age    Salary  No. of Children\n",
            "Age              1.000000 -0.284305        -0.331586\n",
            "Salary          -0.284305  1.000000        -0.298547\n",
            "No. of Children -0.331586 -0.298547         1.000000\n",
            "\n",
            "\n",
            "Singer\n",
            "                      Age    Salary  No. of Children\n",
            "Age              1.000000 -0.570357        -0.155799\n",
            "Salary          -0.570357  1.000000        -0.067842\n",
            "No. of Children -0.155799 -0.067842         1.000000\n"
          ],
          "name": "stdout"
        }
      ]
    },
    {
      "cell_type": "code",
      "metadata": {
        "colab": {
          "base_uri": "https://localhost:8080/",
          "height": 135
        },
        "id": "4gakAewUgzgZ",
        "outputId": "c1919235-f93a-483e-c3b1-76e832ddcd33"
      },
      "source": [
        "gender_grouped"
      ],
      "execution_count": 113,
      "outputs": [
        {
          "output_type": "execute_result",
          "data": {
            "text/html": [
              "<div>\n",
              "<style scoped>\n",
              "    .dataframe tbody tr th:only-of-type {\n",
              "        vertical-align: middle;\n",
              "    }\n",
              "\n",
              "    .dataframe tbody tr th {\n",
              "        vertical-align: top;\n",
              "    }\n",
              "\n",
              "    .dataframe thead th {\n",
              "        text-align: right;\n",
              "    }\n",
              "</style>\n",
              "<table border=\"1\" class=\"dataframe\">\n",
              "  <thead>\n",
              "    <tr style=\"text-align: right;\">\n",
              "      <th></th>\n",
              "      <th>Age</th>\n",
              "      <th>Salary</th>\n",
              "      <th>No. of Children</th>\n",
              "    </tr>\n",
              "    <tr>\n",
              "      <th>Gender</th>\n",
              "      <th></th>\n",
              "      <th></th>\n",
              "      <th></th>\n",
              "    </tr>\n",
              "  </thead>\n",
              "  <tbody>\n",
              "    <tr>\n",
              "      <th>Female</th>\n",
              "      <td>38.860082</td>\n",
              "      <td>5225.781893</td>\n",
              "      <td>2.436214</td>\n",
              "    </tr>\n",
              "    <tr>\n",
              "      <th>Male</th>\n",
              "      <td>40.175097</td>\n",
              "      <td>5376.906615</td>\n",
              "      <td>2.457198</td>\n",
              "    </tr>\n",
              "  </tbody>\n",
              "</table>\n",
              "</div>"
            ],
            "text/plain": [
              "              Age       Salary  No. of Children\n",
              "Gender                                         \n",
              "Female  38.860082  5225.781893         2.436214\n",
              "Male    40.175097  5376.906615         2.457198"
            ]
          },
          "metadata": {
            "tags": []
          },
          "execution_count": 113
        }
      ]
    },
    {
      "cell_type": "code",
      "metadata": {
        "id": "XBW9i8CACdVu",
        "colab": {
          "base_uri": "https://localhost:8080/",
          "height": 135
        },
        "outputId": "fdb21907-720e-414d-afe9-99387ea15d6c"
      },
      "source": [
        "martial_grouped \n",
        "# as we see here single people have more children on an average \n",
        "#this might be due to faulty data  \n",
        "# does the single also mean divorced ? widowed? "
      ],
      "execution_count": 82,
      "outputs": [
        {
          "output_type": "execute_result",
          "data": {
            "text/html": [
              "<div>\n",
              "<style scoped>\n",
              "    .dataframe tbody tr th:only-of-type {\n",
              "        vertical-align: middle;\n",
              "    }\n",
              "\n",
              "    .dataframe tbody tr th {\n",
              "        vertical-align: top;\n",
              "    }\n",
              "\n",
              "    .dataframe thead th {\n",
              "        text-align: right;\n",
              "    }\n",
              "</style>\n",
              "<table border=\"1\" class=\"dataframe\">\n",
              "  <thead>\n",
              "    <tr style=\"text-align: right;\">\n",
              "      <th></th>\n",
              "      <th>Age</th>\n",
              "      <th>Salary</th>\n",
              "      <th>No. of Children</th>\n",
              "    </tr>\n",
              "    <tr>\n",
              "      <th>Marital Status</th>\n",
              "      <th></th>\n",
              "      <th></th>\n",
              "      <th></th>\n",
              "    </tr>\n",
              "  </thead>\n",
              "  <tbody>\n",
              "    <tr>\n",
              "      <th>Married</th>\n",
              "      <td>39.794661</td>\n",
              "      <td>5233.088296</td>\n",
              "      <td>2.412731</td>\n",
              "    </tr>\n",
              "    <tr>\n",
              "      <th>Single</th>\n",
              "      <td>39.290448</td>\n",
              "      <td>5370.265107</td>\n",
              "      <td>2.479532</td>\n",
              "    </tr>\n",
              "  </tbody>\n",
              "</table>\n",
              "</div>"
            ],
            "text/plain": [
              "                      Age       Salary  No. of Children\n",
              "Marital Status                                         \n",
              "Married         39.794661  5233.088296         2.412731\n",
              "Single          39.290448  5370.265107         2.479532"
            ]
          },
          "metadata": {
            "tags": []
          },
          "execution_count": 82
        }
      ]
    },
    {
      "cell_type": "code",
      "metadata": {
        "id": "0Jc3ZVZTCdVv",
        "colab": {
          "base_uri": "https://localhost:8080/",
          "height": 399
        },
        "outputId": "a4c493ab-10b5-4c02-ef80-05ce17815824"
      },
      "source": [
        "data[data['Marital Status']=='Single']"
      ],
      "execution_count": 83,
      "outputs": [
        {
          "output_type": "execute_result",
          "data": {
            "text/html": [
              "<div>\n",
              "<style scoped>\n",
              "    .dataframe tbody tr th:only-of-type {\n",
              "        vertical-align: middle;\n",
              "    }\n",
              "\n",
              "    .dataframe tbody tr th {\n",
              "        vertical-align: top;\n",
              "    }\n",
              "\n",
              "    .dataframe thead th {\n",
              "        text-align: right;\n",
              "    }\n",
              "</style>\n",
              "<table border=\"1\" class=\"dataframe\">\n",
              "  <thead>\n",
              "    <tr style=\"text-align: right;\">\n",
              "      <th></th>\n",
              "      <th>First Name</th>\n",
              "      <th>Last  Name</th>\n",
              "      <th>Gender</th>\n",
              "      <th>Age</th>\n",
              "      <th>Occupation</th>\n",
              "      <th>Salary</th>\n",
              "      <th>Marital Status</th>\n",
              "      <th>No. of Children</th>\n",
              "    </tr>\n",
              "  </thead>\n",
              "  <tbody>\n",
              "    <tr>\n",
              "      <th>2</th>\n",
              "      <td>Charlie</td>\n",
              "      <td>Wilson</td>\n",
              "      <td>Male</td>\n",
              "      <td>58</td>\n",
              "      <td>Aeroplane Pilot</td>\n",
              "      <td>5786</td>\n",
              "      <td>Single</td>\n",
              "      <td>0</td>\n",
              "    </tr>\n",
              "    <tr>\n",
              "      <th>5</th>\n",
              "      <td>Lucas</td>\n",
              "      <td>Brooks</td>\n",
              "      <td>Male</td>\n",
              "      <td>38</td>\n",
              "      <td>Auditor</td>\n",
              "      <td>3029</td>\n",
              "      <td>Single</td>\n",
              "      <td>1</td>\n",
              "    </tr>\n",
              "    <tr>\n",
              "      <th>10</th>\n",
              "      <td>Alina</td>\n",
              "      <td>Russell</td>\n",
              "      <td>Female</td>\n",
              "      <td>51</td>\n",
              "      <td>Engineer</td>\n",
              "      <td>8411</td>\n",
              "      <td>Single</td>\n",
              "      <td>0</td>\n",
              "    </tr>\n",
              "    <tr>\n",
              "      <th>11</th>\n",
              "      <td>Tiana</td>\n",
              "      <td>Wright</td>\n",
              "      <td>Female</td>\n",
              "      <td>59</td>\n",
              "      <td>Composer</td>\n",
              "      <td>8087</td>\n",
              "      <td>Single</td>\n",
              "      <td>4</td>\n",
              "    </tr>\n",
              "    <tr>\n",
              "      <th>12</th>\n",
              "      <td>Kimberly</td>\n",
              "      <td>Rogers</td>\n",
              "      <td>Female</td>\n",
              "      <td>54</td>\n",
              "      <td>Geologist</td>\n",
              "      <td>7929</td>\n",
              "      <td>Single</td>\n",
              "      <td>2</td>\n",
              "    </tr>\n",
              "    <tr>\n",
              "      <th>...</th>\n",
              "      <td>...</td>\n",
              "      <td>...</td>\n",
              "      <td>...</td>\n",
              "      <td>...</td>\n",
              "      <td>...</td>\n",
              "      <td>...</td>\n",
              "      <td>...</td>\n",
              "      <td>...</td>\n",
              "    </tr>\n",
              "    <tr>\n",
              "      <th>992</th>\n",
              "      <td>Sophia</td>\n",
              "      <td>Ferguson</td>\n",
              "      <td>Female</td>\n",
              "      <td>48</td>\n",
              "      <td>Architect</td>\n",
              "      <td>9636</td>\n",
              "      <td>Single</td>\n",
              "      <td>5</td>\n",
              "    </tr>\n",
              "    <tr>\n",
              "      <th>993</th>\n",
              "      <td>Fenton</td>\n",
              "      <td>Stewart</td>\n",
              "      <td>Male</td>\n",
              "      <td>53</td>\n",
              "      <td>Programmer</td>\n",
              "      <td>1777</td>\n",
              "      <td>Single</td>\n",
              "      <td>5</td>\n",
              "    </tr>\n",
              "    <tr>\n",
              "      <th>995</th>\n",
              "      <td>Alina</td>\n",
              "      <td>Cameron</td>\n",
              "      <td>Female</td>\n",
              "      <td>38</td>\n",
              "      <td>Florist</td>\n",
              "      <td>1432</td>\n",
              "      <td>Single</td>\n",
              "      <td>4</td>\n",
              "    </tr>\n",
              "    <tr>\n",
              "      <th>998</th>\n",
              "      <td>Rosie</td>\n",
              "      <td>Douglas</td>\n",
              "      <td>Female</td>\n",
              "      <td>21</td>\n",
              "      <td>Hairdresser</td>\n",
              "      <td>5982</td>\n",
              "      <td>Single</td>\n",
              "      <td>5</td>\n",
              "    </tr>\n",
              "    <tr>\n",
              "      <th>999</th>\n",
              "      <td>Dexter</td>\n",
              "      <td>Williams</td>\n",
              "      <td>Male</td>\n",
              "      <td>58</td>\n",
              "      <td>Insurer</td>\n",
              "      <td>7075</td>\n",
              "      <td>Single</td>\n",
              "      <td>0</td>\n",
              "    </tr>\n",
              "  </tbody>\n",
              "</table>\n",
              "<p>513 rows × 8 columns</p>\n",
              "</div>"
            ],
            "text/plain": [
              "    First Name Last  Name  Gender  ...  Salary Marital Status  No. of Children\n",
              "2      Charlie     Wilson    Male  ...    5786         Single                0\n",
              "5        Lucas     Brooks    Male  ...    3029         Single                1\n",
              "10       Alina    Russell  Female  ...    8411         Single                0\n",
              "11       Tiana     Wright  Female  ...    8087         Single                4\n",
              "12    Kimberly     Rogers  Female  ...    7929         Single                2\n",
              "..         ...        ...     ...  ...     ...            ...              ...\n",
              "992     Sophia   Ferguson  Female  ...    9636         Single                5\n",
              "993     Fenton    Stewart    Male  ...    1777         Single                5\n",
              "995      Alina    Cameron  Female  ...    1432         Single                4\n",
              "998      Rosie    Douglas  Female  ...    5982         Single                5\n",
              "999     Dexter   Williams    Male  ...    7075         Single                0\n",
              "\n",
              "[513 rows x 8 columns]"
            ]
          },
          "metadata": {
            "tags": []
          },
          "execution_count": 83
        }
      ]
    },
    {
      "cell_type": "code",
      "metadata": {
        "colab": {
          "base_uri": "https://localhost:8080/",
          "height": 76
        },
        "id": "3vkEcb6Rg09u",
        "outputId": "5a2329f5-0d36-4e27-cc6d-4b671477ce9a"
      },
      "source": [
        "male_data[male_data.Salary == max(male_data.Salary)]"
      ],
      "execution_count": 110,
      "outputs": [
        {
          "output_type": "execute_result",
          "data": {
            "text/html": [
              "<div>\n",
              "<style scoped>\n",
              "    .dataframe tbody tr th:only-of-type {\n",
              "        vertical-align: middle;\n",
              "    }\n",
              "\n",
              "    .dataframe tbody tr th {\n",
              "        vertical-align: top;\n",
              "    }\n",
              "\n",
              "    .dataframe thead th {\n",
              "        text-align: right;\n",
              "    }\n",
              "</style>\n",
              "<table border=\"1\" class=\"dataframe\">\n",
              "  <thead>\n",
              "    <tr style=\"text-align: right;\">\n",
              "      <th></th>\n",
              "      <th>First Name</th>\n",
              "      <th>Last  Name</th>\n",
              "      <th>Gender</th>\n",
              "      <th>Age</th>\n",
              "      <th>Occupation</th>\n",
              "      <th>Salary</th>\n",
              "      <th>Marital Status</th>\n",
              "      <th>No. of Children</th>\n",
              "    </tr>\n",
              "  </thead>\n",
              "  <tbody>\n",
              "    <tr>\n",
              "      <th>969</th>\n",
              "      <td>Reid</td>\n",
              "      <td>Scott</td>\n",
              "      <td>Male</td>\n",
              "      <td>49</td>\n",
              "      <td>Meteorologist</td>\n",
              "      <td>9999</td>\n",
              "      <td>Single</td>\n",
              "      <td>5</td>\n",
              "    </tr>\n",
              "  </tbody>\n",
              "</table>\n",
              "</div>"
            ],
            "text/plain": [
              "    First Name Last  Name Gender  ...  Salary Marital Status  No. of Children\n",
              "969       Reid      Scott   Male  ...    9999         Single                5\n",
              "\n",
              "[1 rows x 8 columns]"
            ]
          },
          "metadata": {
            "tags": []
          },
          "execution_count": 110
        }
      ]
    },
    {
      "cell_type": "code",
      "metadata": {
        "colab": {
          "base_uri": "https://localhost:8080/",
          "height": 76
        },
        "id": "9-f8TyBzh-Xc",
        "outputId": "74fea076-35d3-4476-eb96-c7090212cc2a"
      },
      "source": [
        "male_data[male_data.Salary == min(male_data.Salary)]"
      ],
      "execution_count": 111,
      "outputs": [
        {
          "output_type": "execute_result",
          "data": {
            "text/html": [
              "<div>\n",
              "<style scoped>\n",
              "    .dataframe tbody tr th:only-of-type {\n",
              "        vertical-align: middle;\n",
              "    }\n",
              "\n",
              "    .dataframe tbody tr th {\n",
              "        vertical-align: top;\n",
              "    }\n",
              "\n",
              "    .dataframe thead th {\n",
              "        text-align: right;\n",
              "    }\n",
              "</style>\n",
              "<table border=\"1\" class=\"dataframe\">\n",
              "  <thead>\n",
              "    <tr style=\"text-align: right;\">\n",
              "      <th></th>\n",
              "      <th>First Name</th>\n",
              "      <th>Last  Name</th>\n",
              "      <th>Gender</th>\n",
              "      <th>Age</th>\n",
              "      <th>Occupation</th>\n",
              "      <th>Salary</th>\n",
              "      <th>Marital Status</th>\n",
              "      <th>No. of Children</th>\n",
              "    </tr>\n",
              "  </thead>\n",
              "  <tbody>\n",
              "    <tr>\n",
              "      <th>155</th>\n",
              "      <td>Aston</td>\n",
              "      <td>Ellis</td>\n",
              "      <td>Male</td>\n",
              "      <td>53</td>\n",
              "      <td>Historian</td>\n",
              "      <td>521</td>\n",
              "      <td>Single</td>\n",
              "      <td>4</td>\n",
              "    </tr>\n",
              "  </tbody>\n",
              "</table>\n",
              "</div>"
            ],
            "text/plain": [
              "    First Name Last  Name Gender  ...  Salary Marital Status  No. of Children\n",
              "155      Aston      Ellis   Male  ...     521         Single                4\n",
              "\n",
              "[1 rows x 8 columns]"
            ]
          },
          "metadata": {
            "tags": []
          },
          "execution_count": 111
        }
      ]
    },
    {
      "cell_type": "code",
      "metadata": {
        "colab": {
          "base_uri": "https://localhost:8080/",
          "height": 76
        },
        "id": "fXxG_CHIhgJe",
        "outputId": "f5f1da7e-3093-4849-d9be-30142151edaa"
      },
      "source": [
        "female_data[female_data.Salary == max(female_data.Salary)]"
      ],
      "execution_count": 105,
      "outputs": [
        {
          "output_type": "execute_result",
          "data": {
            "text/html": [
              "<div>\n",
              "<style scoped>\n",
              "    .dataframe tbody tr th:only-of-type {\n",
              "        vertical-align: middle;\n",
              "    }\n",
              "\n",
              "    .dataframe tbody tr th {\n",
              "        vertical-align: top;\n",
              "    }\n",
              "\n",
              "    .dataframe thead th {\n",
              "        text-align: right;\n",
              "    }\n",
              "</style>\n",
              "<table border=\"1\" class=\"dataframe\">\n",
              "  <thead>\n",
              "    <tr style=\"text-align: right;\">\n",
              "      <th></th>\n",
              "      <th>First Name</th>\n",
              "      <th>Last  Name</th>\n",
              "      <th>Gender</th>\n",
              "      <th>Age</th>\n",
              "      <th>Occupation</th>\n",
              "      <th>Salary</th>\n",
              "      <th>Marital Status</th>\n",
              "      <th>No. of Children</th>\n",
              "    </tr>\n",
              "  </thead>\n",
              "  <tbody>\n",
              "    <tr>\n",
              "      <th>152</th>\n",
              "      <td>Myra</td>\n",
              "      <td>Grant</td>\n",
              "      <td>Female</td>\n",
              "      <td>47</td>\n",
              "      <td>Graphic Designer</td>\n",
              "      <td>10000</td>\n",
              "      <td>Married</td>\n",
              "      <td>2</td>\n",
              "    </tr>\n",
              "  </tbody>\n",
              "</table>\n",
              "</div>"
            ],
            "text/plain": [
              "    First Name Last  Name  Gender  ...  Salary Marital Status  No. of Children\n",
              "152       Myra      Grant  Female  ...   10000        Married                2\n",
              "\n",
              "[1 rows x 8 columns]"
            ]
          },
          "metadata": {
            "tags": []
          },
          "execution_count": 105
        }
      ]
    },
    {
      "cell_type": "code",
      "metadata": {
        "colab": {
          "base_uri": "https://localhost:8080/",
          "height": 76
        },
        "id": "0FJNpPo4ioej",
        "outputId": "8d52d3fb-f286-4640-f0ee-1acba5ce73a3"
      },
      "source": [
        "female_data[female_data.Salary == min(female_data.Salary)]"
      ],
      "execution_count": 112,
      "outputs": [
        {
          "output_type": "execute_result",
          "data": {
            "text/html": [
              "<div>\n",
              "<style scoped>\n",
              "    .dataframe tbody tr th:only-of-type {\n",
              "        vertical-align: middle;\n",
              "    }\n",
              "\n",
              "    .dataframe tbody tr th {\n",
              "        vertical-align: top;\n",
              "    }\n",
              "\n",
              "    .dataframe thead th {\n",
              "        text-align: right;\n",
              "    }\n",
              "</style>\n",
              "<table border=\"1\" class=\"dataframe\">\n",
              "  <thead>\n",
              "    <tr style=\"text-align: right;\">\n",
              "      <th></th>\n",
              "      <th>First Name</th>\n",
              "      <th>Last  Name</th>\n",
              "      <th>Gender</th>\n",
              "      <th>Age</th>\n",
              "      <th>Occupation</th>\n",
              "      <th>Salary</th>\n",
              "      <th>Marital Status</th>\n",
              "      <th>No. of Children</th>\n",
              "    </tr>\n",
              "  </thead>\n",
              "  <tbody>\n",
              "    <tr>\n",
              "      <th>308</th>\n",
              "      <td>Penelope</td>\n",
              "      <td>Henderson</td>\n",
              "      <td>Female</td>\n",
              "      <td>38</td>\n",
              "      <td>Singer</td>\n",
              "      <td>520</td>\n",
              "      <td>Single</td>\n",
              "      <td>5</td>\n",
              "    </tr>\n",
              "  </tbody>\n",
              "</table>\n",
              "</div>"
            ],
            "text/plain": [
              "    First Name Last  Name  Gender  ...  Salary Marital Status  No. of Children\n",
              "308   Penelope  Henderson  Female  ...     520         Single                5\n",
              "\n",
              "[1 rows x 8 columns]"
            ]
          },
          "metadata": {
            "tags": []
          },
          "execution_count": 112
        }
      ]
    },
    {
      "cell_type": "code",
      "metadata": {
        "id": "CjD0bXC_hgMU"
      },
      "source": [
        ""
      ],
      "execution_count": null,
      "outputs": []
    }
  ]
}